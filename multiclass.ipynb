{
  "nbformat": 4,
  "nbformat_minor": 0,
  "metadata": {
    "colab": {
      "provenance": [],
      "mount_file_id": "1y4bavb4vvdlMY2L2i4XRpZVQfXBayEYC",
      "authorship_tag": "ABX9TyM1uTFOg5X6AqK4NsDeptTB",
      "include_colab_link": true
    },
    "kernelspec": {
      "name": "python3",
      "display_name": "Python 3"
    },
    "language_info": {
      "name": "python"
    }
  },
  "cells": [
    {
      "cell_type": "markdown",
      "metadata": {
        "id": "view-in-github",
        "colab_type": "text"
      },
      "source": [
        "<a href=\"https://colab.research.google.com/github/riazahmedmahin/Thesiss/blob/main/multiclass.ipynb\" target=\"_parent\"><img src=\"https://colab.research.google.com/assets/colab-badge.svg\" alt=\"Open In Colab\"/></a>"
      ]
    },
    {
      "cell_type": "code",
      "source": [
        "from google.colab import drive\n",
        "drive.mount('/content/drive')"
      ],
      "metadata": {
        "colab": {
          "base_uri": "https://localhost:8080/"
        },
        "id": "DqrfSITrSOVV",
        "outputId": "e0f8fcd7-44b5-490c-dd33-833c37291fea"
      },
      "execution_count": null,
      "outputs": [
        {
          "output_type": "stream",
          "name": "stdout",
          "text": [
            "Drive already mounted at /content/drive; to attempt to forcibly remount, call drive.mount(\"/content/drive\", force_remount=True).\n"
          ]
        }
      ]
    },
    {
      "cell_type": "code",
      "source": [
        "\n",
        "\n",
        "# Import necessary libraries\n",
        "import tensorflow as tf\n",
        "from tensorflow.keras.preprocessing.image import ImageDataGenerator\n",
        "from tensorflow.keras.applications import ResNet50, VGG16, InceptionV3, EfficientNetB3\n",
        "from tensorflow.keras.models import Model\n",
        "from tensorflow.keras.layers import Dense, GlobalAveragePooling2D, Dropout\n",
        "from tensorflow.keras.optimizers import Adam\n",
        "from sklearn.metrics import classification_report, confusion_matrix\n",
        "import os\n",
        "import numpy as np\n",
        "import matplotlib.pyplot as plt\n",
        "import seaborn as sns\n",
        "import time\n",
        "\n",
        "# Dataset paths\n",
        "train_path = '/content/drive/MyDrive/Colab Notebooks/Orage Dataset/batch 2/train'\n",
        "test_path = '/content/drive/MyDrive/Colab Notebooks/Orage Dataset/batch 2/test'\n",
        "\n",
        "# Count images in each class\n",
        "def count_images_in_dir(directory):\n",
        "    class_counts = {}\n",
        "    for class_name in os.listdir(directory):\n",
        "        class_dir = os.path.join(directory, class_name)\n",
        "        class_counts[class_name] = len(os.listdir(class_dir))\n",
        "    return class_counts\n",
        "\n",
        "print(\"Training data:\", count_images_in_dir(train_path))\n",
        "print(\"Testing data:\", count_images_in_dir(test_path))\n"
      ],
      "metadata": {
        "colab": {
          "base_uri": "https://localhost:8080/"
        },
        "id": "b4jYh0L3UBtq",
        "outputId": "a95e174a-6435-4156-b68c-62156ee9fb8d"
      },
      "execution_count": null,
      "outputs": [
        {
          "output_type": "stream",
          "name": "stdout",
          "text": [
            "Training data: {'grenning': 347, 'fresh': 1310, 'canker': 179, 'blackspot': 184}\n",
            "Testing data: {'fresh': 273, 'blackspot': 22, 'grenning': 22, 'canker': 22}\n"
          ]
        }
      ]
    },
    {
      "cell_type": "code",
      "source": [
        "# Data augmentation settings\n",
        "data_gen = ImageDataGenerator(\n",
        "    rescale=1./255,\n",
        "    rotation_range=20,\n",
        "    width_shift_range=0.2,\n",
        "    height_shift_range=0.2,\n",
        "    shear_range=0.2,\n",
        "    zoom_range=0.2,\n",
        "    horizontal_flip=True,\n",
        "    fill_mode='nearest'\n",
        ")\n",
        "\n",
        "# Image sizes for each model\n",
        "image_size_dict = {\n",
        "    'ResNet50': 224,\n",
        "    'VGG16': 224,\n",
        "    'EfficientNetB3': 224,\n",
        "    'InceptionV3': 299\n",
        "}\n",
        "\n",
        "# Function to create data generators based on model input size\n",
        "def create_data_generators(image_size):\n",
        "    train_gen = data_gen.flow_from_directory(\n",
        "        train_path,\n",
        "        target_size=(image_size, image_size),\n",
        "        batch_size=32,\n",
        "        class_mode='categorical'\n",
        "    )\n",
        "\n",
        "    test_gen = data_gen.flow_from_directory(\n",
        "        test_path,\n",
        "        target_size=(image_size, image_size),\n",
        "        batch_size=32,\n",
        "        class_mode='categorical',\n",
        "        shuffle=False\n",
        "    )\n",
        "\n",
        "    return train_gen, test_gen\n",
        "\n",
        "# Data generators for each model\n",
        "train_gen_resnet, test_gen_resnet = create_data_generators(image_size_dict['ResNet50'])\n",
        "train_gen_vgg, test_gen_vgg = create_data_generators(image_size_dict['VGG16'])\n",
        "train_gen_efficientnet, test_gen_efficientnet = create_data_generators(image_size_dict['EfficientNetB3'])\n",
        "train_gen_inception, test_gen_inception = create_data_generators(image_size_dict['InceptionV3'])\n"
      ],
      "metadata": {
        "colab": {
          "base_uri": "https://localhost:8080/"
        },
        "id": "b9PNQSuAUIPD",
        "outputId": "a577b4ec-5f21-4a2a-d952-6d41dc839f0e"
      },
      "execution_count": null,
      "outputs": [
        {
          "output_type": "stream",
          "name": "stdout",
          "text": [
            "Found 2020 images belonging to 4 classes.\n",
            "Found 339 images belonging to 4 classes.\n",
            "Found 2020 images belonging to 4 classes.\n",
            "Found 339 images belonging to 4 classes.\n",
            "Found 2020 images belonging to 4 classes.\n",
            "Found 339 images belonging to 4 classes.\n",
            "Found 2020 images belonging to 4 classes.\n",
            "Found 339 images belonging to 4 classes.\n"
          ]
        }
      ]
    },
    {
      "cell_type": "code",
      "source": [
        "# General function to set up transfer learning model\n",
        "def setup_transfer_model(base_model, num_classes=4):\n",
        "    x = base_model.output\n",
        "    x = GlobalAveragePooling2D()(x)\n",
        "    x = Dropout(0.5)(x)\n",
        "    predictions = Dense(num_classes, activation='softmax')(x)\n",
        "    model = Model(inputs=base_model.input, outputs=predictions)\n",
        "\n",
        "    # Freeze the lower layers\n",
        "    for layer in base_model.layers:\n",
        "        layer.trainable = False\n",
        "\n",
        "    # Compile the model\n",
        "    model.compile(optimizer=Adam(learning_rate=0.005), loss='categorical_crossentropy', metrics=['accuracy'])\n",
        "    return model\n"
      ],
      "metadata": {
        "id": "u3bc9gK6UMRX"
      },
      "execution_count": null,
      "outputs": []
    },
    {
      "cell_type": "code",
      "source": [
        "# ResNet50 model setup\n",
        "resnet_base = ResNet50(weights='imagenet', include_top=False, input_shape=(224, 224, 3))\n",
        "resnet_model = setup_transfer_model(resnet_base)\n"
      ],
      "metadata": {
        "colab": {
          "base_uri": "https://localhost:8080/"
        },
        "id": "sP9unwwwU58g",
        "outputId": "cfface52-e526-43d7-e142-fc95a6256685"
      },
      "execution_count": null,
      "outputs": [
        {
          "output_type": "stream",
          "name": "stdout",
          "text": [
            "Downloading data from https://storage.googleapis.com/tensorflow/keras-applications/resnet/resnet50_weights_tf_dim_ordering_tf_kernels_notop.h5\n",
            "\u001b[1m94765736/94765736\u001b[0m \u001b[32m━━━━━━━━━━━━━━━━━━━━\u001b[0m\u001b[37m\u001b[0m \u001b[1m1s\u001b[0m 0us/step\n"
          ]
        }
      ]
    },
    {
      "cell_type": "code",
      "source": [
        "# VGG16 model setup\n",
        "vgg_base = VGG16(weights='imagenet', include_top=False, input_shape=(224, 224, 3))\n",
        "vgg_model = setup_transfer_model(vgg_base)\n"
      ],
      "metadata": {
        "colab": {
          "base_uri": "https://localhost:8080/"
        },
        "id": "tArIyDnXU9zE",
        "outputId": "d9f4ac4e-b0a9-4d1e-d6ec-9d222ea962bb"
      },
      "execution_count": null,
      "outputs": [
        {
          "output_type": "stream",
          "name": "stdout",
          "text": [
            "Downloading data from https://storage.googleapis.com/tensorflow/keras-applications/vgg16/vgg16_weights_tf_dim_ordering_tf_kernels_notop.h5\n",
            "\u001b[1m58889256/58889256\u001b[0m \u001b[32m━━━━━━━━━━━━━━━━━━━━\u001b[0m\u001b[37m\u001b[0m \u001b[1m3s\u001b[0m 0us/step\n"
          ]
        }
      ]
    },
    {
      "cell_type": "code",
      "source": [
        "# InceptionV3 model setup\n",
        "inception_base = InceptionV3(weights='imagenet', include_top=False, input_shape=(299, 299, 3))\n",
        "inception_model = setup_transfer_model(inception_base)\n"
      ],
      "metadata": {
        "colab": {
          "base_uri": "https://localhost:8080/"
        },
        "id": "AjccUg84VAYH",
        "outputId": "c1e09bda-14fc-4ca5-8036-fffbd34081d6"
      },
      "execution_count": null,
      "outputs": [
        {
          "output_type": "stream",
          "name": "stdout",
          "text": [
            "Downloading data from https://storage.googleapis.com/tensorflow/keras-applications/inception_v3/inception_v3_weights_tf_dim_ordering_tf_kernels_notop.h5\n",
            "\u001b[1m87910968/87910968\u001b[0m \u001b[32m━━━━━━━━━━━━━━━━━━━━\u001b[0m\u001b[37m\u001b[0m \u001b[1m1s\u001b[0m 0us/step\n"
          ]
        }
      ]
    },
    {
      "cell_type": "code",
      "source": [
        "# EfficientNetB3 model setup\n",
        "efficientnet_base = EfficientNetB3(weights='imagenet', include_top=False, input_shape=(224, 224, 3))\n",
        "efficientnet_model = setup_transfer_model(efficientnet_base)\n"
      ],
      "metadata": {
        "colab": {
          "base_uri": "https://localhost:8080/"
        },
        "id": "npg3NtPHVCib",
        "outputId": "d0235b28-2b30-49cb-82ff-3203665058ca"
      },
      "execution_count": null,
      "outputs": [
        {
          "output_type": "stream",
          "name": "stdout",
          "text": [
            "Downloading data from https://storage.googleapis.com/keras-applications/efficientnetb3_notop.h5\n",
            "\u001b[1m43941136/43941136\u001b[0m \u001b[32m━━━━━━━━━━━━━━━━━━━━\u001b[0m\u001b[37m\u001b[0m \u001b[1m0s\u001b[0m 0us/step\n"
          ]
        }
      ]
    },
    {
      "cell_type": "code",
      "source": [
        "# Function to train model and capture training time\n",
        "from tensorflow.keras.callbacks import EarlyStopping\n",
        "\n",
        "def train_model(model, train_gen, test_gen, epochs=15):\n",
        "    # Define early stopping callback\n",
        "    early_stopping = EarlyStopping(monitor='val_loss', patience=7, restore_best_weights=True)\n",
        "\n",
        "    # Start training with early stopping\n",
        "    start_time = time.time()\n",
        "    history = model.fit(\n",
        "        train_gen,\n",
        "        validation_data=test_gen,\n",
        "        epochs=epochs,\n",
        "        callbacks=[early_stopping]\n",
        "    )\n",
        "    training_time = time.time() - start_time\n",
        "    return history, training_time\n"
      ],
      "metadata": {
        "id": "VpaOA8rpVFLg"
      },
      "execution_count": null,
      "outputs": []
    },
    {
      "cell_type": "code",
      "source": [
        "# Train ResNet50\n",
        "history_resnet, training_time_resnet = train_model(resnet_model, train_gen_resnet, test_gen_resnet)\n"
      ],
      "metadata": {
        "colab": {
          "base_uri": "https://localhost:8080/"
        },
        "id": "Q8RjwKbuE0JL",
        "outputId": "fb79d8c6-4db2-4a65-c781-39e9dc7ac65d"
      },
      "execution_count": null,
      "outputs": [
        {
          "output_type": "stream",
          "name": "stdout",
          "text": [
            "Epoch 1/50\n"
          ]
        },
        {
          "output_type": "stream",
          "name": "stderr",
          "text": [
            "/usr/local/lib/python3.10/dist-packages/keras/src/trainers/data_adapters/py_dataset_adapter.py:121: UserWarning: Your `PyDataset` class should call `super().__init__(**kwargs)` in its constructor. `**kwargs` can include `workers`, `use_multiprocessing`, `max_queue_size`. Do not pass these arguments to `fit()`, as they will be ignored.\n",
            "  self._warn_if_super_not_called()\n"
          ]
        },
        {
          "output_type": "stream",
          "name": "stdout",
          "text": [
            "\u001b[1m64/64\u001b[0m \u001b[32m━━━━━━━━━━━━━━━━━━━━\u001b[0m\u001b[37m\u001b[0m \u001b[1m665s\u001b[0m 9s/step - accuracy: 0.5801 - loss: 1.2446 - val_accuracy: 0.8053 - val_loss: 0.8509\n",
            "Epoch 2/50\n",
            "\u001b[1m64/64\u001b[0m \u001b[32m━━━━━━━━━━━━━━━━━━━━\u001b[0m\u001b[37m\u001b[0m \u001b[1m506s\u001b[0m 7s/step - accuracy: 0.6270 - loss: 1.0357 - val_accuracy: 0.8053 - val_loss: 0.8068\n",
            "Epoch 3/50\n",
            "\u001b[1m64/64\u001b[0m \u001b[32m━━━━━━━━━━━━━━━━━━━━\u001b[0m\u001b[37m\u001b[0m \u001b[1m470s\u001b[0m 7s/step - accuracy: 0.6155 - loss: 1.0255 - val_accuracy: 0.8053 - val_loss: 0.7850\n",
            "Epoch 4/50\n",
            "\u001b[1m64/64\u001b[0m \u001b[32m━━━━━━━━━━━━━━━━━━━━\u001b[0m\u001b[37m\u001b[0m \u001b[1m502s\u001b[0m 7s/step - accuracy: 0.6347 - loss: 0.9924 - val_accuracy: 0.8053 - val_loss: 0.7254\n",
            "Epoch 5/50\n",
            "\u001b[1m64/64\u001b[0m \u001b[32m━━━━━━━━━━━━━━━━━━━━\u001b[0m\u001b[37m\u001b[0m \u001b[1m502s\u001b[0m 7s/step - accuracy: 0.6426 - loss: 0.9904 - val_accuracy: 0.8024 - val_loss: 0.7118\n",
            "Epoch 6/50\n",
            "\u001b[1m64/64\u001b[0m \u001b[32m━━━━━━━━━━━━━━━━━━━━\u001b[0m\u001b[37m\u001b[0m \u001b[1m470s\u001b[0m 7s/step - accuracy: 0.6205 - loss: 0.9943 - val_accuracy: 0.8053 - val_loss: 0.6499\n",
            "Epoch 7/50\n",
            "\u001b[1m64/64\u001b[0m \u001b[32m━━━━━━━━━━━━━━━━━━━━\u001b[0m\u001b[37m\u001b[0m \u001b[1m481s\u001b[0m 7s/step - accuracy: 0.6509 - loss: 0.9346 - val_accuracy: 0.8053 - val_loss: 0.7475\n",
            "Epoch 8/50\n",
            "\u001b[1m64/64\u001b[0m \u001b[32m━━━━━━━━━━━━━━━━━━━━\u001b[0m\u001b[37m\u001b[0m \u001b[1m459s\u001b[0m 7s/step - accuracy: 0.6163 - loss: 0.9788 - val_accuracy: 0.8053 - val_loss: 0.6798\n",
            "Epoch 9/50\n",
            "\u001b[1m64/64\u001b[0m \u001b[32m━━━━━━━━━━━━━━━━━━━━\u001b[0m\u001b[37m\u001b[0m \u001b[1m501s\u001b[0m 7s/step - accuracy: 0.5961 - loss: 1.0134 - val_accuracy: 0.8024 - val_loss: 0.6847\n",
            "Epoch 10/50\n",
            "\u001b[1m64/64\u001b[0m \u001b[32m━━━━━━━━━━━━━━━━━━━━\u001b[0m\u001b[37m\u001b[0m \u001b[1m475s\u001b[0m 7s/step - accuracy: 0.6342 - loss: 0.9478 - val_accuracy: 0.7817 - val_loss: 0.8397\n",
            "Epoch 11/50\n",
            "\u001b[1m64/64\u001b[0m \u001b[32m━━━━━━━━━━━━━━━━━━━━\u001b[0m\u001b[37m\u001b[0m \u001b[1m504s\u001b[0m 7s/step - accuracy: 0.6564 - loss: 0.9264 - val_accuracy: 0.7965 - val_loss: 0.7561\n",
            "Epoch 12/50\n",
            "\u001b[1m64/64\u001b[0m \u001b[32m━━━━━━━━━━━━━━━━━━━━\u001b[0m\u001b[37m\u001b[0m \u001b[1m457s\u001b[0m 7s/step - accuracy: 0.6501 - loss: 0.9509 - val_accuracy: 0.8053 - val_loss: 0.6261\n",
            "Epoch 13/50\n",
            "\u001b[1m64/64\u001b[0m \u001b[32m━━━━━━━━━━━━━━━━━━━━\u001b[0m\u001b[37m\u001b[0m \u001b[1m508s\u001b[0m 7s/step - accuracy: 0.6418 - loss: 0.9125 - val_accuracy: 0.7994 - val_loss: 0.7432\n",
            "Epoch 14/50\n",
            "\u001b[1m64/64\u001b[0m \u001b[32m━━━━━━━━━━━━━━━━━━━━\u001b[0m\u001b[37m\u001b[0m \u001b[1m502s\u001b[0m 7s/step - accuracy: 0.6144 - loss: 0.9361 - val_accuracy: 0.7965 - val_loss: 0.7399\n",
            "Epoch 15/50\n",
            "\u001b[1m64/64\u001b[0m \u001b[32m━━━━━━━━━━━━━━━━━━━━\u001b[0m\u001b[37m\u001b[0m \u001b[1m462s\u001b[0m 7s/step - accuracy: 0.6485 - loss: 0.8706 - val_accuracy: 0.6962 - val_loss: 0.7858\n",
            "Epoch 16/50\n",
            "\u001b[1m64/64\u001b[0m \u001b[32m━━━━━━━━━━━━━━━━━━━━\u001b[0m\u001b[37m\u001b[0m \u001b[1m461s\u001b[0m 7s/step - accuracy: 0.6501 - loss: 0.8603 - val_accuracy: 0.8053 - val_loss: 0.6705\n",
            "Epoch 17/50\n",
            "\u001b[1m64/64\u001b[0m \u001b[32m━━━━━━━━━━━━━━━━━━━━\u001b[0m\u001b[37m\u001b[0m \u001b[1m457s\u001b[0m 7s/step - accuracy: 0.6412 - loss: 0.8923 - val_accuracy: 0.8142 - val_loss: 0.6300\n",
            "Epoch 18/50\n",
            "\u001b[1m64/64\u001b[0m \u001b[32m━━━━━━━━━━━━━━━━━━━━\u001b[0m\u001b[37m\u001b[0m \u001b[1m462s\u001b[0m 7s/step - accuracy: 0.6436 - loss: 0.9005 - val_accuracy: 0.8053 - val_loss: 0.6093\n",
            "Epoch 19/50\n",
            "\u001b[1m64/64\u001b[0m \u001b[32m━━━━━━━━━━━━━━━━━━━━\u001b[0m\u001b[37m\u001b[0m \u001b[1m498s\u001b[0m 7s/step - accuracy: 0.6432 - loss: 0.8742 - val_accuracy: 0.8053 - val_loss: 0.7269\n",
            "Epoch 20/50\n",
            "\u001b[1m64/64\u001b[0m \u001b[32m━━━━━━━━━━━━━━━━━━━━\u001b[0m\u001b[37m\u001b[0m \u001b[1m497s\u001b[0m 7s/step - accuracy: 0.6361 - loss: 0.8898 - val_accuracy: 0.8053 - val_loss: 0.7078\n",
            "Epoch 21/50\n",
            "\u001b[1m64/64\u001b[0m \u001b[32m━━━━━━━━━━━━━━━━━━━━\u001b[0m\u001b[37m\u001b[0m \u001b[1m504s\u001b[0m 7s/step - accuracy: 0.6149 - loss: 0.9618 - val_accuracy: 0.8053 - val_loss: 0.6188\n",
            "Epoch 22/50\n",
            "\u001b[1m64/64\u001b[0m \u001b[32m━━━━━━━━━━━━━━━━━━━━\u001b[0m\u001b[37m\u001b[0m \u001b[1m501s\u001b[0m 7s/step - accuracy: 0.6216 - loss: 0.8954 - val_accuracy: 0.8083 - val_loss: 0.6247\n",
            "Epoch 23/50\n",
            "\u001b[1m64/64\u001b[0m \u001b[32m━━━━━━━━━━━━━━━━━━━━\u001b[0m\u001b[37m\u001b[0m \u001b[1m520s\u001b[0m 7s/step - accuracy: 0.6668 - loss: 0.8524 - val_accuracy: 0.8053 - val_loss: 0.5858\n",
            "Epoch 24/50\n",
            "\u001b[1m64/64\u001b[0m \u001b[32m━━━━━━━━━━━━━━━━━━━━\u001b[0m\u001b[37m\u001b[0m \u001b[1m489s\u001b[0m 7s/step - accuracy: 0.6510 - loss: 0.8941 - val_accuracy: 0.8201 - val_loss: 0.7189\n",
            "Epoch 25/50\n",
            "\u001b[1m64/64\u001b[0m \u001b[32m━━━━━━━━━━━━━━━━━━━━\u001b[0m\u001b[37m\u001b[0m \u001b[1m456s\u001b[0m 7s/step - accuracy: 0.6363 - loss: 0.8902 - val_accuracy: 0.8112 - val_loss: 0.6118\n",
            "Epoch 26/50\n",
            "\u001b[1m64/64\u001b[0m \u001b[32m━━━━━━━━━━━━━━━━━━━━\u001b[0m\u001b[37m\u001b[0m \u001b[1m480s\u001b[0m 7s/step - accuracy: 0.6432 - loss: 0.8639 - val_accuracy: 0.8083 - val_loss: 0.6600\n",
            "Epoch 27/50\n",
            "\u001b[1m64/64\u001b[0m \u001b[32m━━━━━━━━━━━━━━━━━━━━\u001b[0m\u001b[37m\u001b[0m \u001b[1m503s\u001b[0m 7s/step - accuracy: 0.6459 - loss: 0.8692 - val_accuracy: 0.8142 - val_loss: 0.6431\n",
            "Epoch 28/50\n",
            "\u001b[1m64/64\u001b[0m \u001b[32m━━━━━━━━━━━━━━━━━━━━\u001b[0m\u001b[37m\u001b[0m \u001b[1m499s\u001b[0m 7s/step - accuracy: 0.6676 - loss: 0.8511 - val_accuracy: 0.8024 - val_loss: 0.6284\n",
            "Epoch 29/50\n",
            "\u001b[1m64/64\u001b[0m \u001b[32m━━━━━━━━━━━━━━━━━━━━\u001b[0m\u001b[37m\u001b[0m \u001b[1m460s\u001b[0m 7s/step - accuracy: 0.6478 - loss: 0.8841 - val_accuracy: 0.8378 - val_loss: 0.6914\n",
            "Epoch 30/50\n",
            "\u001b[1m64/64\u001b[0m \u001b[32m━━━━━━━━━━━━━━━━━━━━\u001b[0m\u001b[37m\u001b[0m \u001b[1m503s\u001b[0m 7s/step - accuracy: 0.6491 - loss: 0.8406 - val_accuracy: 0.8053 - val_loss: 0.5993\n"
          ]
        }
      ]
    },
    {
      "cell_type": "code",
      "source": [
        "# Function to evaluate the model and print metrics\n",
        "def evaluate_model(model, test_gen):\n",
        "    predictions = model.predict(test_gen)\n",
        "    y_true = test_gen.classes\n",
        "    y_pred = np.argmax(predictions, axis=1)\n",
        "\n",
        "    print(classification_report(y_true, y_pred, target_names=test_gen.class_indices.keys()))\n",
        "\n",
        "    # Plot confusion matrix\n",
        "    cm = confusion_matrix(y_true, y_pred)\n",
        "    sns.heatmap(cm, annot=True, fmt='d', cmap='Blues', xticklabels=test_gen.class_indices.keys(), yticklabels=test_gen.class_indices.keys())\n",
        "    plt.xlabel('Predicted')\n",
        "    plt.ylabel('Actual')\n",
        "    plt.show()\n"
      ],
      "metadata": {
        "id": "OrAM7iduiTJ2"
      },
      "execution_count": null,
      "outputs": []
    },
    {
      "cell_type": "code",
      "source": [
        "# Evaluate ResNet50\n",
        "evaluate_model(resnet_model, test_gen_resnet)\n"
      ],
      "metadata": {
        "colab": {
          "base_uri": "https://localhost:8080/",
          "height": 790
        },
        "id": "OoxS6Kz2ic6l",
        "outputId": "f9cd6bb2-1eac-4a41-e5e5-d26518d85f68"
      },
      "execution_count": null,
      "outputs": [
        {
          "output_type": "stream",
          "name": "stdout",
          "text": [
            "\u001b[1m11/11\u001b[0m \u001b[32m━━━━━━━━━━━━━━━━━━━━\u001b[0m\u001b[37m\u001b[0m \u001b[1m69s\u001b[0m 6s/step\n",
            "              precision    recall  f1-score   support\n",
            "\n",
            "   blackspot       0.00      0.00      0.00        22\n",
            "      canker       1.00      0.09      0.17        22\n",
            "       fresh       0.81      1.00      0.90       273\n",
            "    grenning       0.00      0.00      0.00        22\n",
            "\n",
            "    accuracy                           0.81       339\n",
            "   macro avg       0.45      0.27      0.27       339\n",
            "weighted avg       0.72      0.81      0.73       339\n",
            "\n"
          ]
        },
        {
          "output_type": "stream",
          "name": "stderr",
          "text": [
            "/usr/local/lib/python3.10/dist-packages/sklearn/metrics/_classification.py:1531: UndefinedMetricWarning: Precision is ill-defined and being set to 0.0 in labels with no predicted samples. Use `zero_division` parameter to control this behavior.\n",
            "  _warn_prf(average, modifier, f\"{metric.capitalize()} is\", len(result))\n",
            "/usr/local/lib/python3.10/dist-packages/sklearn/metrics/_classification.py:1531: UndefinedMetricWarning: Precision is ill-defined and being set to 0.0 in labels with no predicted samples. Use `zero_division` parameter to control this behavior.\n",
            "  _warn_prf(average, modifier, f\"{metric.capitalize()} is\", len(result))\n",
            "/usr/local/lib/python3.10/dist-packages/sklearn/metrics/_classification.py:1531: UndefinedMetricWarning: Precision is ill-defined and being set to 0.0 in labels with no predicted samples. Use `zero_division` parameter to control this behavior.\n",
            "  _warn_prf(average, modifier, f\"{metric.capitalize()} is\", len(result))\n"
          ]
        },
        {
          "output_type": "display_data",
          "data": {
            "text/plain": [
              "<Figure size 640x480 with 2 Axes>"
            ],
            "image/png": "[encoded data removed]"
          },
          "metadata": {}
        }
      ]
    },
    {
      "cell_type": "code",
      "source": [
        "# Define the save path\n",
        "save_path = '/content/drive/MyDrive/Colab Notebooks/Orage Dataset/ExtractedFeature/multiclass'\n",
        "\n",
        "# Save each model's weights and structure\n",
        "resnet_model.save(f\"{save_path}/resnet50_orange_disease.h5\")\n"
      ],
      "metadata": {
        "colab": {
          "base_uri": "https://localhost:8080/"
        },
        "id": "2iDe3fixjNur",
        "outputId": "dd3fc6e3-f6f5-4cb9-eceb-a715c86fbcff"
      },
      "execution_count": null,
      "outputs": [
        {
          "output_type": "stream",
          "name": "stderr",
          "text": [
            "WARNING:absl:You are saving your model as an HDF5 file via `model.save()` or `keras.saving.save_model(model)`. This file format is considered legacy. We recommend using instead the native Keras format, e.g. `model.save('my_model.keras')` or `keras.saving.save_model(model, 'my_model.keras')`. \n"
          ]
        }
      ]
    },
    {
      "cell_type": "code",
      "source": [
        "# Function to print the final test accuracy of a trained model\n",
        "def print_model_accuracy(model, test_gen, model_name):\n",
        "    # Evaluate the model on the test set\n",
        "    _, accuracy = model.evaluate(test_gen, verbose=0)\n",
        "    print(f\"Final Test Accuracy for {model_name}: {accuracy * 100:.2f}%\")\n",
        "\n",
        "# Print accuracy for each model\n",
        "print_model_accuracy(resnet_model, test_gen_resnet, \"ResNet-50\")\n"
      ],
      "metadata": {
        "colab": {
          "base_uri": "https://localhost:8080/"
        },
        "id": "9IyfuGI3idaS",
        "outputId": "75828451-a343-43b8-8984-884d57034391"
      },
      "execution_count": null,
      "outputs": [
        {
          "output_type": "stream",
          "name": "stdout",
          "text": [
            "Final Test Accuracy for ResNet-50: 80.53%\n"
          ]
        }
      ]
    },
    {
      "cell_type": "code",
      "source": [],
      "metadata": {
        "id": "sSorVSx7id4W"
      },
      "execution_count": null,
      "outputs": []
    },
    {
      "cell_type": "code",
      "source": [
        "# Train VGG16\n",
        "history_vgg, training_time_vgg = train_model(vgg_model, train_gen_vgg, test_gen_vgg)\n"
      ],
      "metadata": {
        "colab": {
          "base_uri": "https://localhost:8080/"
        },
        "id": "SpJ4qx_A-M6F",
        "outputId": "99b05dee-7639-4cfd-fcac-e4a000f7e18c"
      },
      "execution_count": null,
      "outputs": [
        {
          "output_type": "stream",
          "name": "stdout",
          "text": [
            "Epoch 1/15\n"
          ]
        },
        {
          "output_type": "stream",
          "name": "stderr",
          "text": [
            "/usr/local/lib/python3.10/dist-packages/keras/src/trainers/data_adapters/py_dataset_adapter.py:122: UserWarning: Your `PyDataset` class should call `super().__init__(**kwargs)` in its constructor. `**kwargs` can include `workers`, `use_multiprocessing`, `max_queue_size`. Do not pass these arguments to `fit()`, as they will be ignored.\n",
            "  self._warn_if_super_not_called()\n"
          ]
        },
        {
          "output_type": "stream",
          "name": "stdout",
          "text": [
            "\u001b[1m64/64\u001b[0m \u001b[32m━━━━━━━━━━━━━━━━━━━━\u001b[0m\u001b[37m\u001b[0m \u001b[1m1885s\u001b[0m 27s/step - accuracy: 0.6196 - loss: 1.0256 - val_accuracy: 0.8643 - val_loss: 0.3629\n",
            "Epoch 2/15\n",
            "\u001b[1m64/64\u001b[0m \u001b[32m━━━━━━━━━━━━━━━━━━━━\u001b[0m\u001b[37m\u001b[0m \u001b[1m1374s\u001b[0m 21s/step - accuracy: 0.8052 - loss: 0.5442 - val_accuracy: 0.9086 - val_loss: 0.2769\n",
            "Epoch 3/15\n",
            "\u001b[1m64/64\u001b[0m \u001b[32m━━━━━━━━━━━━━━━━━━━━\u001b[0m\u001b[37m\u001b[0m \u001b[1m1401s\u001b[0m 21s/step - accuracy: 0.8585 - loss: 0.4068 - val_accuracy: 0.9351 - val_loss: 0.2357\n",
            "Epoch 4/15\n",
            "\u001b[1m64/64\u001b[0m \u001b[32m━━━━━━━━━━━━━━━━━━━━\u001b[0m\u001b[37m\u001b[0m \u001b[1m1389s\u001b[0m 21s/step - accuracy: 0.8624 - loss: 0.3686 - val_accuracy: 0.9440 - val_loss: 0.1960\n",
            "Epoch 5/15\n",
            "\u001b[1m64/64\u001b[0m \u001b[32m━━━━━━━━━━━━━━━━━━━━\u001b[0m\u001b[37m\u001b[0m \u001b[1m1362s\u001b[0m 21s/step - accuracy: 0.8763 - loss: 0.3261 - val_accuracy: 0.9351 - val_loss: 0.1970\n",
            "Epoch 6/15\n",
            "\u001b[1m64/64\u001b[0m \u001b[32m━━━━━━━━━━━━━━━━━━━━\u001b[0m\u001b[37m\u001b[0m \u001b[1m1363s\u001b[0m 21s/step - accuracy: 0.9076 - loss: 0.2678 - val_accuracy: 0.9558 - val_loss: 0.1729\n",
            "Epoch 7/15\n",
            "\u001b[1m64/64\u001b[0m \u001b[32m━━━━━━━━━━━━━━━━━━━━\u001b[0m\u001b[37m\u001b[0m \u001b[1m1412s\u001b[0m 21s/step - accuracy: 0.9060 - loss: 0.2511 - val_accuracy: 0.9440 - val_loss: 0.1541\n",
            "Epoch 8/15\n",
            "\u001b[1m64/64\u001b[0m \u001b[32m━━━━━━━━━━━━━━━━━━━━\u001b[0m\u001b[37m\u001b[0m \u001b[1m1367s\u001b[0m 21s/step - accuracy: 0.9129 - loss: 0.2713 - val_accuracy: 0.9587 - val_loss: 0.1516\n",
            "Epoch 9/15\n",
            "\u001b[1m64/64\u001b[0m \u001b[32m━━━━━━━━━━━━━━━━━━━━\u001b[0m\u001b[37m\u001b[0m \u001b[1m1361s\u001b[0m 21s/step - accuracy: 0.9197 - loss: 0.2472 - val_accuracy: 0.9558 - val_loss: 0.1465\n",
            "Epoch 10/15\n",
            "\u001b[1m64/64\u001b[0m \u001b[32m━━━━━━━━━━━━━━━━━━━━\u001b[0m\u001b[37m\u001b[0m \u001b[1m1371s\u001b[0m 21s/step - accuracy: 0.9345 - loss: 0.2182 - val_accuracy: 0.9528 - val_loss: 0.1431\n",
            "Epoch 11/15\n",
            "\u001b[1m64/64\u001b[0m \u001b[32m━━━━━━━━━━━━━━━━━━━━\u001b[0m\u001b[37m\u001b[0m \u001b[1m1408s\u001b[0m 21s/step - accuracy: 0.9228 - loss: 0.2313 - val_accuracy: 0.9528 - val_loss: 0.1380\n",
            "Epoch 12/15\n",
            "\u001b[1m64/64\u001b[0m \u001b[32m━━━━━━━━━━━━━━━━━━━━\u001b[0m\u001b[37m\u001b[0m \u001b[1m1387s\u001b[0m 21s/step - accuracy: 0.9126 - loss: 0.2298 - val_accuracy: 0.9528 - val_loss: 0.1259\n",
            "Epoch 13/15\n",
            "\u001b[1m64/64\u001b[0m \u001b[32m━━━━━━━━━━━━━━━━━━━━\u001b[0m\u001b[37m\u001b[0m \u001b[1m1368s\u001b[0m 21s/step - accuracy: 0.9219 - loss: 0.2127 - val_accuracy: 0.9499 - val_loss: 0.1268\n",
            "Epoch 14/15\n",
            "\u001b[1m64/64\u001b[0m \u001b[32m━━━━━━━━━━━━━━━━━━━━\u001b[0m\u001b[37m\u001b[0m \u001b[1m1368s\u001b[0m 21s/step - accuracy: 0.9216 - loss: 0.2075 - val_accuracy: 0.9499 - val_loss: 0.1265\n",
            "Epoch 15/15\n",
            "\u001b[1m64/64\u001b[0m \u001b[32m━━━━━━━━━━━━━━━━━━━━\u001b[0m\u001b[37m\u001b[0m \u001b[1m1399s\u001b[0m 21s/step - accuracy: 0.9226 - loss: 0.2064 - val_accuracy: 0.9292 - val_loss: 0.1384\n"
          ]
        }
      ]
    },
    {
      "cell_type": "code",
      "source": [
        "# Function to evaluate the model and print metrics\n",
        "def evaluate_model(model, test_gen):\n",
        "    predictions = model.predict(test_gen)\n",
        "    y_true = test_gen.classes\n",
        "    y_pred = np.argmax(predictions, axis=1)\n",
        "\n",
        "    print(classification_report(y_true, y_pred, target_names=test_gen.class_indices.keys()))\n",
        "\n",
        "    # Plot confusion matrix\n",
        "    cm = confusion_matrix(y_true, y_pred)\n",
        "    sns.heatmap(cm, annot=True, fmt='d', cmap='Blues', xticklabels=test_gen.class_indices.keys(), yticklabels=test_gen.class_indices.keys())\n",
        "    plt.xlabel('Predicted')\n",
        "    plt.ylabel('Actual')\n",
        "    plt.show()\n"
      ],
      "metadata": {
        "id": "zCS7m7BDGujD"
      },
      "execution_count": null,
      "outputs": []
    },
    {
      "cell_type": "code",
      "source": [
        "# Evaluate VGG16\n",
        "evaluate_model(vgg_model, test_gen_vgg)\n"
      ],
      "metadata": {
        "colab": {
          "base_uri": "https://localhost:8080/",
          "height": 663
        },
        "id": "s3aR2ReMG15i",
        "outputId": "879238cb-6b59-4f7f-e5fb-964609107eff"
      },
      "execution_count": null,
      "outputs": [
        {
          "output_type": "stream",
          "name": "stdout",
          "text": [
            "\u001b[1m11/11\u001b[0m \u001b[32m━━━━━━━━━━━━━━━━━━━━\u001b[0m\u001b[37m\u001b[0m \u001b[1m199s\u001b[0m 18s/step\n",
            "              precision    recall  f1-score   support\n",
            "\n",
            "   blackspot       1.00      0.82      0.90        22\n",
            "      canker       0.83      0.86      0.84        22\n",
            "       fresh       0.98      1.00      0.99       273\n",
            "    grenning       1.00      0.91      0.95        22\n",
            "\n",
            "    accuracy                           0.97       339\n",
            "   macro avg       0.95      0.90      0.92       339\n",
            "weighted avg       0.97      0.97      0.97       339\n",
            "\n"
          ]
        },
        {
          "output_type": "display_data",
          "data": {
            "text/plain": [
              "<Figure size 640x480 with 2 Axes>"
            ],
            "image/png": "[encoded data removed]"
          },
          "metadata": {}
        }
      ]
    },
    {
      "cell_type": "code",
      "source": [
        "# Define the save path\n",
        "save_path = '/content/drive/MyDrive/Colab Notebooks/Orage Dataset/ExtractedFeature/multiclass'\n",
        "\n",
        "# Save each model's weights and structure\n",
        "vgg_model.save(f\"{save_path}/vgg16_orange_disease.h5\")"
      ],
      "metadata": {
        "colab": {
          "base_uri": "https://localhost:8080/"
        },
        "id": "2UVNvpRexYgm",
        "outputId": "8d2f435b-92c9-412f-d725-09b29f79877e"
      },
      "execution_count": null,
      "outputs": [
        {
          "output_type": "stream",
          "name": "stderr",
          "text": [
            "WARNING:absl:You are saving your model as an HDF5 file via `model.save()` or `keras.saving.save_model(model)`. This file format is considered legacy. We recommend using instead the native Keras format, e.g. `model.save('my_model.keras')` or `keras.saving.save_model(model, 'my_model.keras')`. \n"
          ]
        }
      ]
    },
    {
      "cell_type": "code",
      "source": [],
      "metadata": {
        "id": "uHCmq_BGxY9F"
      },
      "execution_count": null,
      "outputs": []
    },
    {
      "cell_type": "code",
      "source": [
        "# Train InceptionV3\n",
        "history_inception, training_time_inception = train_model(inception_model, train_gen_inception, test_gen_inception)\n"
      ],
      "metadata": {
        "id": "EbPSSNFOD3J3",
        "colab": {
          "base_uri": "https://localhost:8080/"
        },
        "outputId": "68faae5b-fd0d-4973-c1b4-45d515df88ad"
      },
      "execution_count": null,
      "outputs": [
        {
          "output_type": "stream",
          "name": "stdout",
          "text": [
            "Epoch 1/50\n",
            "\u001b[1m64/64\u001b[0m \u001b[32m━━━━━━━━━━━━━━━━━━━━\u001b[0m\u001b[37m\u001b[0m \u001b[1m633s\u001b[0m 10s/step - accuracy: 0.7705 - loss: 0.6161 - val_accuracy: 0.9764 - val_loss: 0.0755\n",
            "Epoch 2/50\n",
            "\u001b[1m64/64\u001b[0m \u001b[32m━━━━━━━━━━━━━━━━━━━━\u001b[0m\u001b[37m\u001b[0m \u001b[1m630s\u001b[0m 10s/step - accuracy: 0.9669 - loss: 0.0877 - val_accuracy: 0.9587 - val_loss: 0.0829\n",
            "Epoch 3/50\n",
            "\u001b[1m64/64\u001b[0m \u001b[32m━━━━━━━━━━━━━━━━━━━━\u001b[0m\u001b[37m\u001b[0m \u001b[1m685s\u001b[0m 10s/step - accuracy: 0.9710 - loss: 0.0720 - val_accuracy: 0.9764 - val_loss: 0.0695\n",
            "Epoch 4/50\n",
            "\u001b[1m64/64\u001b[0m \u001b[32m━━━━━━━━━━━━━━━━━━━━\u001b[0m\u001b[37m\u001b[0m \u001b[1m676s\u001b[0m 10s/step - accuracy: 0.9803 - loss: 0.0528 - val_accuracy: 0.9853 - val_loss: 0.0537\n",
            "Epoch 5/50\n",
            "\u001b[1m64/64\u001b[0m \u001b[32m━━━━━━━━━━━━━━━━━━━━\u001b[0m\u001b[37m\u001b[0m \u001b[1m636s\u001b[0m 10s/step - accuracy: 0.9724 - loss: 0.0738 - val_accuracy: 0.9853 - val_loss: 0.0402\n",
            "Epoch 6/50\n",
            "\u001b[1m64/64\u001b[0m \u001b[32m━━━━━━━━━━━━━━━━━━━━\u001b[0m\u001b[37m\u001b[0m \u001b[1m729s\u001b[0m 10s/step - accuracy: 0.9882 - loss: 0.0411 - val_accuracy: 0.9823 - val_loss: 0.0584\n",
            "Epoch 7/50\n",
            "\u001b[1m64/64\u001b[0m \u001b[32m━━━━━━━━━━━━━━━━━━━━\u001b[0m\u001b[37m\u001b[0m \u001b[1m689s\u001b[0m 11s/step - accuracy: 0.9754 - loss: 0.0541 - val_accuracy: 0.9882 - val_loss: 0.0509\n",
            "Epoch 8/50\n",
            "\u001b[1m64/64\u001b[0m \u001b[32m━━━━━━━━━━━━━━━━━━━━\u001b[0m\u001b[37m\u001b[0m \u001b[1m680s\u001b[0m 11s/step - accuracy: 0.9810 - loss: 0.0409 - val_accuracy: 0.9823 - val_loss: 0.0493\n",
            "Epoch 9/50\n",
            "\u001b[1m64/64\u001b[0m \u001b[32m━━━━━━━━━━━━━━━━━━━━\u001b[0m\u001b[37m\u001b[0m \u001b[1m622s\u001b[0m 10s/step - accuracy: 0.9868 - loss: 0.0365 - val_accuracy: 0.9853 - val_loss: 0.0495\n",
            "Epoch 10/50\n",
            "\u001b[1m64/64\u001b[0m \u001b[32m━━━━━━━━━━━━━━━━━━━━\u001b[0m\u001b[37m\u001b[0m \u001b[1m624s\u001b[0m 10s/step - accuracy: 0.9826 - loss: 0.0417 - val_accuracy: 0.9912 - val_loss: 0.0367\n",
            "Epoch 11/50\n",
            "\u001b[1m64/64\u001b[0m \u001b[32m━━━━━━━━━━━━━━━━━━━━\u001b[0m\u001b[37m\u001b[0m \u001b[1m694s\u001b[0m 10s/step - accuracy: 0.9880 - loss: 0.0301 - val_accuracy: 0.9912 - val_loss: 0.0428\n",
            "Epoch 12/50\n",
            "\u001b[1m64/64\u001b[0m \u001b[32m━━━━━━━━━━━━━━━━━━━━\u001b[0m\u001b[37m\u001b[0m \u001b[1m639s\u001b[0m 10s/step - accuracy: 0.9852 - loss: 0.0507 - val_accuracy: 0.9794 - val_loss: 0.0588\n",
            "Epoch 13/50\n",
            "\u001b[1m64/64\u001b[0m \u001b[32m━━━━━━━━━━━━━━━━━━━━\u001b[0m\u001b[37m\u001b[0m \u001b[1m734s\u001b[0m 11s/step - accuracy: 0.9859 - loss: 0.0494 - val_accuracy: 0.9882 - val_loss: 0.0436\n",
            "Epoch 14/50\n",
            "\u001b[1m64/64\u001b[0m \u001b[32m━━━━━━━━━━━━━━━━━━━━\u001b[0m\u001b[37m\u001b[0m \u001b[1m635s\u001b[0m 10s/step - accuracy: 0.9885 - loss: 0.0355 - val_accuracy: 0.9882 - val_loss: 0.0437\n",
            "Epoch 15/50\n",
            "\u001b[1m64/64\u001b[0m \u001b[32m━━━━━━━━━━━━━━━━━━━━\u001b[0m\u001b[37m\u001b[0m \u001b[1m683s\u001b[0m 10s/step - accuracy: 0.9817 - loss: 0.0500 - val_accuracy: 0.9823 - val_loss: 0.0569\n",
            "Epoch 16/50\n",
            "\u001b[1m64/64\u001b[0m \u001b[32m━━━━━━━━━━━━━━━━━━━━\u001b[0m\u001b[37m\u001b[0m \u001b[1m684s\u001b[0m 11s/step - accuracy: 0.9767 - loss: 0.0804 - val_accuracy: 0.9882 - val_loss: 0.0561\n",
            "Epoch 17/50\n",
            "\u001b[1m64/64\u001b[0m \u001b[32m━━━━━━━━━━━━━━━━━━━━\u001b[0m\u001b[37m\u001b[0m \u001b[1m681s\u001b[0m 11s/step - accuracy: 0.9837 - loss: 0.0416 - val_accuracy: 0.9764 - val_loss: 0.0761\n"
          ]
        }
      ]
    },
    {
      "cell_type": "code",
      "source": [
        "# Function to evaluate the model and print metrics\n",
        "def evaluate_model(model, test_gen):\n",
        "    predictions = model.predict(test_gen)\n",
        "    y_true = test_gen.classes\n",
        "    y_pred = np.argmax(predictions, axis=1)\n",
        "\n",
        "    print(classification_report(y_true, y_pred, target_names=test_gen.class_indices.keys()))\n",
        "\n",
        "    # Plot confusion matrix\n",
        "    cm = confusion_matrix(y_true, y_pred)\n",
        "    sns.heatmap(cm, annot=True, fmt='d', cmap='Blues', xticklabels=test_gen.class_indices.keys(), yticklabels=test_gen.class_indices.keys())\n",
        "    plt.xlabel('Predicted')\n",
        "    plt.ylabel('Actual')\n",
        "    plt.show()\n"
      ],
      "metadata": {
        "id": "rZsRlHe4p19m"
      },
      "execution_count": null,
      "outputs": []
    },
    {
      "cell_type": "code",
      "source": [
        "# Evaluate InceptionV3\n",
        "evaluate_model(inception_model, test_gen_inception)\n"
      ],
      "metadata": {
        "colab": {
          "base_uri": "https://localhost:8080/",
          "height": 663
        },
        "id": "2u0imHl3p7UE",
        "outputId": "634f17cf-008e-49a8-dc53-6027105a280b"
      },
      "execution_count": null,
      "outputs": [
        {
          "output_type": "stream",
          "name": "stdout",
          "text": [
            "\u001b[1m11/11\u001b[0m \u001b[32m━━━━━━━━━━━━━━━━━━━━\u001b[0m\u001b[37m\u001b[0m \u001b[1m98s\u001b[0m 9s/step\n",
            "              precision    recall  f1-score   support\n",
            "\n",
            "   blackspot       0.88      0.95      0.91        22\n",
            "      canker       0.94      0.73      0.82        22\n",
            "       fresh       0.99      1.00      0.99       273\n",
            "    grenning       1.00      1.00      1.00        22\n",
            "\n",
            "    accuracy                           0.98       339\n",
            "   macro avg       0.95      0.92      0.93       339\n",
            "weighted avg       0.98      0.98      0.98       339\n",
            "\n"
          ]
        },
        {
          "output_type": "display_data",
          "data": {
            "text/plain": [
              "<Figure size 640x480 with 2 Axes>"
            ],
            "image/png": "[encoded data removed]"
          },
          "metadata": {}
        }
      ]
    },
    {
      "cell_type": "code",
      "source": [
        "# Define the save path\n",
        "save_path = '/content/drive/MyDrive/Colab Notebooks/Orage Dataset/ExtractedFeature/multiclass'\n",
        "\n",
        "# Save each model's weights and structure\n",
        "inception_model.save(f\"{save_path}/inceptionv3_orange_disease.h5\")"
      ],
      "metadata": {
        "colab": {
          "base_uri": "https://localhost:8080/"
        },
        "id": "I39fZzrYqdf4",
        "outputId": "41ac1da8-4c4f-447f-c788-f3c55d6d11b0"
      },
      "execution_count": null,
      "outputs": [
        {
          "output_type": "stream",
          "name": "stderr",
          "text": [
            "WARNING:absl:You are saving your model as an HDF5 file via `model.save()` or `keras.saving.save_model(model)`. This file format is considered legacy. We recommend using instead the native Keras format, e.g. `model.save('my_model.keras')` or `keras.saving.save_model(model, 'my_model.keras')`. \n"
          ]
        }
      ]
    },
    {
      "cell_type": "code",
      "source": [
        "# Function to print the final test accuracy of a trained model\n",
        "def print_model_accuracy(model, test_gen, model_name):\n",
        "    # Evaluate the model on the test set\n",
        "    _, accuracy = model.evaluate(test_gen, verbose=0)\n",
        "    print(f\"Final Test Accuracy for {model_name}: {accuracy * 100:.2f}%\")\n",
        "\n",
        "# Print accuracy for each model\n",
        "print_model_accuracy(inception_model, test_gen_inception, \"InceptionV3\")"
      ],
      "metadata": {
        "colab": {
          "base_uri": "https://localhost:8080/"
        },
        "id": "N0WcKskzqmQP",
        "outputId": "00337eb3-1013-467f-c7f1-1776c1610cf5"
      },
      "execution_count": null,
      "outputs": [
        {
          "output_type": "stream",
          "name": "stdout",
          "text": [
            "Final Test Accuracy for InceptionV3: 98.53%\n"
          ]
        }
      ]
    },
    {
      "cell_type": "code",
      "source": [
        "# Train EfficientNetB3\n",
        "history_efficientnet, training_time_efficientnet = train_model(efficientnet_model, train_gen_efficientnet, test_gen_efficientnet)\n"
      ],
      "metadata": {
        "id": "le-4FBCWD5VB",
        "colab": {
          "base_uri": "https://localhost:8080/"
        },
        "outputId": "f578bf69-2cc5-49ab-ed9d-d21eb9cef95b"
      },
      "execution_count": null,
      "outputs": [
        {
          "output_type": "stream",
          "name": "stdout",
          "text": [
            "Epoch 1/50\n"
          ]
        },
        {
          "output_type": "stream",
          "name": "stderr",
          "text": [
            "/usr/local/lib/python3.10/dist-packages/keras/src/trainers/data_adapters/py_dataset_adapter.py:121: UserWarning: Your `PyDataset` class should call `super().__init__(**kwargs)` in its constructor. `**kwargs` can include `workers`, `use_multiprocessing`, `max_queue_size`. Do not pass these arguments to `fit()`, as they will be ignored.\n",
            "  self._warn_if_super_not_called()\n"
          ]
        },
        {
          "output_type": "stream",
          "name": "stdout",
          "text": [
            "\u001b[1m64/64\u001b[0m \u001b[32m━━━━━━━━━━━━━━━━━━━━\u001b[0m\u001b[37m\u001b[0m \u001b[1m443s\u001b[0m 7s/step - accuracy: 0.6166 - loss: 1.1579 - val_accuracy: 0.8053 - val_loss: 0.7526\n",
            "Epoch 2/50\n",
            "\u001b[1m64/64\u001b[0m \u001b[32m━━━━━━━━━━━━━━━━━━━━\u001b[0m\u001b[37m\u001b[0m \u001b[1m429s\u001b[0m 6s/step - accuracy: 0.6238 - loss: 1.1063 - val_accuracy: 0.8053 - val_loss: 0.7492\n",
            "Epoch 3/50\n",
            "\u001b[1m64/64\u001b[0m \u001b[32m━━━━━━━━━━━━━━━━━━━━\u001b[0m\u001b[37m\u001b[0m \u001b[1m412s\u001b[0m 6s/step - accuracy: 0.6254 - loss: 1.1091 - val_accuracy: 0.8053 - val_loss: 0.8003\n",
            "Epoch 4/50\n",
            "\u001b[1m64/64\u001b[0m \u001b[32m━━━━━━━━━━━━━━━━━━━━\u001b[0m\u001b[37m\u001b[0m \u001b[1m408s\u001b[0m 6s/step - accuracy: 0.6627 - loss: 1.0470 - val_accuracy: 0.8053 - val_loss: 0.8810\n",
            "Epoch 5/50\n",
            "\u001b[1m64/64\u001b[0m \u001b[32m━━━━━━━━━━━━━━━━━━━━\u001b[0m\u001b[37m\u001b[0m \u001b[1m397s\u001b[0m 6s/step - accuracy: 0.6452 - loss: 1.0965 - val_accuracy: 0.8053 - val_loss: 0.7549\n",
            "Epoch 6/50\n",
            "\u001b[1m64/64\u001b[0m \u001b[32m━━━━━━━━━━━━━━━━━━━━\u001b[0m\u001b[37m\u001b[0m \u001b[1m404s\u001b[0m 6s/step - accuracy: 0.6285 - loss: 1.1349 - val_accuracy: 0.8053 - val_loss: 0.8347\n",
            "Epoch 7/50\n",
            "\u001b[1m64/64\u001b[0m \u001b[32m━━━━━━━━━━━━━━━━━━━━\u001b[0m\u001b[37m\u001b[0m \u001b[1m458s\u001b[0m 6s/step - accuracy: 0.6496 - loss: 1.0764 - val_accuracy: 0.8053 - val_loss: 0.7661\n",
            "Epoch 8/50\n",
            "\u001b[1m64/64\u001b[0m \u001b[32m━━━━━━━━━━━━━━━━━━━━\u001b[0m\u001b[37m\u001b[0m \u001b[1m399s\u001b[0m 6s/step - accuracy: 0.6363 - loss: 1.0907 - val_accuracy: 0.8053 - val_loss: 0.9007\n",
            "Epoch 9/50\n",
            "\u001b[1m64/64\u001b[0m \u001b[32m━━━━━━━━━━━━━━━━━━━━\u001b[0m\u001b[37m\u001b[0m \u001b[1m433s\u001b[0m 6s/step - accuracy: 0.6428 - loss: 1.0806 - val_accuracy: 0.8053 - val_loss: 0.9545\n"
          ]
        }
      ]
    },
    {
      "cell_type": "code",
      "source": [
        "# Function to evaluate the model and print metrics\n",
        "def evaluate_model(model, test_gen):\n",
        "    predictions = model.predict(test_gen)\n",
        "    y_true = test_gen.classes\n",
        "    y_pred = np.argmax(predictions, axis=1)\n",
        "\n",
        "    print(classification_report(y_true, y_pred, target_names=test_gen.class_indices.keys()))\n",
        "\n",
        "    # Plot confusion matrix\n",
        "    cm = confusion_matrix(y_true, y_pred)\n",
        "    sns.heatmap(cm, annot=True, fmt='d', cmap='Blues', xticklabels=test_gen.class_indices.keys(), yticklabels=test_gen.class_indices.keys())\n",
        "    plt.xlabel('Predicted')\n",
        "    plt.ylabel('Actual')\n",
        "    plt.show()\n"
      ],
      "metadata": {
        "id": "oudtCwL16CAX"
      },
      "execution_count": null,
      "outputs": []
    },
    {
      "cell_type": "code",
      "source": [
        "# Evaluate EfficientNetB3\n",
        "evaluate_model(efficientnet_model, test_gen_efficientnet)\n"
      ],
      "metadata": {
        "colab": {
          "base_uri": "https://localhost:8080/",
          "height": 790
        },
        "id": "EBz2OwPk6JjP",
        "outputId": "3ea8899e-84fc-482a-aaf6-ebad6abf528f"
      },
      "execution_count": null,
      "outputs": [
        {
          "output_type": "stream",
          "name": "stdout",
          "text": [
            "\u001b[1m11/11\u001b[0m \u001b[32m━━━━━━━━━━━━━━━━━━━━\u001b[0m\u001b[37m\u001b[0m \u001b[1m61s\u001b[0m 5s/step\n",
            "              precision    recall  f1-score   support\n",
            "\n",
            "   blackspot       0.00      0.00      0.00        22\n",
            "      canker       0.00      0.00      0.00        22\n",
            "       fresh       0.81      1.00      0.89       273\n",
            "    grenning       0.00      0.00      0.00        22\n",
            "\n",
            "    accuracy                           0.81       339\n",
            "   macro avg       0.20      0.25      0.22       339\n",
            "weighted avg       0.65      0.81      0.72       339\n",
            "\n"
          ]
        },
        {
          "output_type": "stream",
          "name": "stderr",
          "text": [
            "/usr/local/lib/python3.10/dist-packages/sklearn/metrics/_classification.py:1531: UndefinedMetricWarning: Precision is ill-defined and being set to 0.0 in labels with no predicted samples. Use `zero_division` parameter to control this behavior.\n",
            "  _warn_prf(average, modifier, f\"{metric.capitalize()} is\", len(result))\n",
            "/usr/local/lib/python3.10/dist-packages/sklearn/metrics/_classification.py:1531: UndefinedMetricWarning: Precision is ill-defined and being set to 0.0 in labels with no predicted samples. Use `zero_division` parameter to control this behavior.\n",
            "  _warn_prf(average, modifier, f\"{metric.capitalize()} is\", len(result))\n",
            "/usr/local/lib/python3.10/dist-packages/sklearn/metrics/_classification.py:1531: UndefinedMetricWarning: Precision is ill-defined and being set to 0.0 in labels with no predicted samples. Use `zero_division` parameter to control this behavior.\n",
            "  _warn_prf(average, modifier, f\"{metric.capitalize()} is\", len(result))\n"
          ]
        },
        {
          "output_type": "display_data",
          "data": {
            "text/plain": [
              "<Figure size 640x480 with 2 Axes>"
            ],
            "image/png": "[encoded data removed]"
          },
          "metadata": {}
        }
      ]
    },
    {
      "cell_type": "code",
      "source": [
        "# Function to print the final test accuracy of a trained model\n",
        "def print_model_accuracy(model, test_gen, model_name):\n",
        "    # Evaluate the model on the test set\n",
        "    _, accuracy = model.evaluate(test_gen, verbose=0)\n",
        "    print(f\"Final Test Accuracy for {model_name}: {accuracy * 100:.2f}%\")\n",
        "\n",
        "# Print accuracy for each model\n",
        "print_model_accuracy(efficientnet_model, test_gen_efficientnet, \"EfficientNet-B3\")\n"
      ],
      "metadata": {
        "colab": {
          "base_uri": "https://localhost:8080/"
        },
        "id": "eUGLSWDq6XzX",
        "outputId": "6c17b255-065c-4bd3-b591-442279277582"
      },
      "execution_count": null,
      "outputs": [
        {
          "output_type": "stream",
          "name": "stdout",
          "text": [
            "Final Test Accuracy for EfficientNet-B3: 80.53%\n"
          ]
        }
      ]
    },
    {
      "cell_type": "code",
      "source": [
        "# Define the save path\n",
        "save_path = '/content/drive/MyDrive/Colab Notebooks/Orage Dataset/ExtractedFeature/multiclass'\n",
        "\n",
        "# Save each model's weights and structure\n",
        "efficientnet_model.save(f\"{save_path}/efficientnetb3_orange_disease.h5\")\n"
      ],
      "metadata": {
        "id": "faMQU2Jh6Ssj"
      },
      "execution_count": null,
      "outputs": []
    }
  ]
}